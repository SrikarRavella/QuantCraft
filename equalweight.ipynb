{
 "cells": [
  {
   "cell_type": "markdown",
   "metadata": {},
   "source": [
    "# Equal-Weight S&P 500 Index Fund\n",
    "The S&P 500 is the world's most popular stock market index. The largest fund that is benchmarked to this index is the SPDR® S&P 500® ETF Trust.\n",
    "\n",
    "The goal is to create a Python script to calculated the number of shares of each stock needed to be allocated by an investor for an equal-weighted index fund."
   ]
  },
  {
   "cell_type": "markdown",
   "metadata": {},
   "source": [
    "import numpy as np\n",
    "import pandas as pd\n",
    "import requests\n",
    "import xlsxwriter\n",
    "import math "
   ]
  },
  {
   "cell_type": "markdown",
   "metadata": {},
   "source": [
    "Import all stocks in S&P 500 index"
   ]
  },
  {
   "cell_type": "code",
   "execution_count": 1,
   "metadata": {},
   "outputs": [],
   "source": [
    "import pandas as pd\n",
    "import xlsxwriter\n",
    "import requests\n",
    "import math\n",
    "import numpy as np"
   ]
  },
  {
   "cell_type": "code",
   "execution_count": 2,
   "metadata": {
    "scrolled": true
   },
   "outputs": [
    {
     "name": "stdout",
     "output_type": "stream",
     "text": [
      "    Ticker\n",
      "0        A\n",
      "1      AAL\n",
      "2      AAP\n",
      "3     AAPL\n",
      "4     ABBV\n",
      "..     ...\n",
      "491    YUM\n",
      "492    ZBH\n",
      "493   ZBRA\n",
      "494   ZION\n",
      "495    ZTS\n",
      "\n",
      "[496 rows x 1 columns]\n"
     ]
    }
   ],
   "source": [
    "stocks = pd.read_csv('sp_500_stocks.csv')\n",
    "print(stocks)"
   ]
  },
  {
   "cell_type": "markdown",
   "metadata": {},
   "source": [
    "Import api keys and test the connection"
   ]
  },
  {
   "cell_type": "code",
   "execution_count": 3,
   "metadata": {},
   "outputs": [],
   "source": [
    "from secrets1 import IEX_CLOUD_API_TOKEN "
   ]
  },
  {
   "cell_type": "code",
   "execution_count": 4,
   "metadata": {},
   "outputs": [
    {
     "name": "stdout",
     "output_type": "stream",
     "text": [
      "<Response [200]>\n"
     ]
    }
   ],
   "source": [
    "symbol = 'AAPL'\n",
    "api_url = f'https://cloud.iexapis.com/stable/stock/{symbol}/quote/?token={IEX_CLOUD_API_TOKEN}'\n",
    "data = requests.get(api_url)\n",
    "print(data)"
   ]
  },
  {
   "cell_type": "markdown",
   "metadata": {},
   "source": [
    "## Parsing Our API Call\n",
    "\n",
    "After successful testing of connection we the data from exchange that isn't in proper format yet, so we need to parse it first."
   ]
  },
  {
   "cell_type": "code",
   "execution_count": 5,
   "metadata": {},
   "outputs": [
    {
     "name": "stdout",
     "output_type": "stream",
     "text": [
      "Empty DataFrame\n",
      "Columns: [Ticker, Stock Price, Market Capitalization, Number of shares to buy]\n",
      "Index: []\n",
      "AAPL\n"
     ]
    }
   ],
   "source": [
    "data = requests.get(api_url).json()\n",
    "my_columns = ['Ticker','Stock Price', 'Market Capitalization','Number of shares to buy']\n",
    "final_df = pd.DataFrame(columns = my_columns)\n",
    "print(final_df)\n",
    "print(data['symbol'])"
   ]
  },
  {
   "cell_type": "markdown",
   "metadata": {},
   "source": [
    "## Adding Our Stocks Data to a Pandas DataFrame\n",
    "\n",
    "The next thing we need to do is add our stock's price and market capitalization to a pandas DataFrame."
   ]
  },
  {
   "cell_type": "markdown",
   "metadata": {},
   "source": [
    "## Using Batch API Calls to Improve Performance\n",
    "\n",
    "Batch API calls are one of the easiest ways to improve the performance of your code.\n",
    "This is because HTTP requests are typically one of the slowest components of a script.\n",
    "IEX Cloud limits their batch API calls to 100 tickers per request. Still, this reduces the number of API calls we'll make from 500 to 5 - huge improvement!. Then we will split our list of stocks into groups of 100 and then make a batch API call for each group."
   ]
  },
  {
   "cell_type": "markdown",
   "metadata": {},
   "source": [
    "The code below divide lists into sublists for batch api calling"
   ]
  },
  {
   "cell_type": "code",
   "execution_count": 6,
   "metadata": {},
   "outputs": [],
   "source": [
    "def chunks(lst,n):\n",
    "    for i in range(0,len(lst),n):\n",
    "        yield lst[i:i + n]"
   ]
  },
  {
   "cell_type": "code",
   "execution_count": 7,
   "metadata": {},
   "outputs": [
    {
     "name": "stderr",
     "output_type": "stream",
     "text": [
      "/var/folders/kl/g1hpj41559g7jyb25xkdrwdc0000gn/T/ipykernel_45931/2843460568.py:11: FutureWarning: The behavior of DataFrame concatenation with empty or all-NA entries is deprecated. In a future version, this will no longer exclude empty or all-NA columns when determining the result dtypes. To retain the old behavior, exclude the relevant entries before the concat operation.\n",
      "  final_df = final_df._append(\n"
     ]
    },
    {
     "data": {
      "text/html": [
       "<div>\n",
       "<style scoped>\n",
       "    .dataframe tbody tr th:only-of-type {\n",
       "        vertical-align: middle;\n",
       "    }\n",
       "\n",
       "    .dataframe tbody tr th {\n",
       "        vertical-align: top;\n",
       "    }\n",
       "\n",
       "    .dataframe thead th {\n",
       "        text-align: right;\n",
       "    }\n",
       "</style>\n",
       "<table border=\"1\" class=\"dataframe\">\n",
       "  <thead>\n",
       "    <tr style=\"text-align: right;\">\n",
       "      <th></th>\n",
       "      <th>Ticker</th>\n",
       "      <th>Stock Price</th>\n",
       "      <th>Market Capitalization</th>\n",
       "      <th>Number of shares to buy</th>\n",
       "    </tr>\n",
       "  </thead>\n",
       "  <tbody>\n",
       "    <tr>\n",
       "      <th>0</th>\n",
       "      <td>A</td>\n",
       "      <td>107.445</td>\n",
       "      <td>31437039547</td>\n",
       "      <td>N/A</td>\n",
       "    </tr>\n",
       "    <tr>\n",
       "      <th>1</th>\n",
       "      <td>AAL</td>\n",
       "      <td>11.680</td>\n",
       "      <td>7633353624</td>\n",
       "      <td>N/A</td>\n",
       "    </tr>\n",
       "    <tr>\n",
       "      <th>2</th>\n",
       "      <td>AAP</td>\n",
       "      <td>56.330</td>\n",
       "      <td>3349959802</td>\n",
       "      <td>N/A</td>\n",
       "    </tr>\n",
       "    <tr>\n",
       "      <th>3</th>\n",
       "      <td>AAPL</td>\n",
       "      <td>185.300</td>\n",
       "      <td>2881924945600</td>\n",
       "      <td>N/A</td>\n",
       "    </tr>\n",
       "    <tr>\n",
       "      <th>4</th>\n",
       "      <td>ABBV</td>\n",
       "      <td>137.830</td>\n",
       "      <td>243344022736</td>\n",
       "      <td>N/A</td>\n",
       "    </tr>\n",
       "    <tr>\n",
       "      <th>...</th>\n",
       "      <td>...</td>\n",
       "      <td>...</td>\n",
       "      <td>...</td>\n",
       "      <td>...</td>\n",
       "    </tr>\n",
       "    <tr>\n",
       "      <th>491</th>\n",
       "      <td>YUM</td>\n",
       "      <td>125.240</td>\n",
       "      <td>35105801348</td>\n",
       "      <td>N/A</td>\n",
       "    </tr>\n",
       "    <tr>\n",
       "      <th>492</th>\n",
       "      <td>ZBH</td>\n",
       "      <td>103.715</td>\n",
       "      <td>21674434441</td>\n",
       "      <td>N/A</td>\n",
       "    </tr>\n",
       "    <tr>\n",
       "      <th>493</th>\n",
       "      <td>ZBRA</td>\n",
       "      <td>205.940</td>\n",
       "      <td>10576996848</td>\n",
       "      <td>N/A</td>\n",
       "    </tr>\n",
       "    <tr>\n",
       "      <th>494</th>\n",
       "      <td>ZION</td>\n",
       "      <td>32.620</td>\n",
       "      <td>4832613823</td>\n",
       "      <td>N/A</td>\n",
       "    </tr>\n",
       "    <tr>\n",
       "      <th>495</th>\n",
       "      <td>ZTS</td>\n",
       "      <td>168.520</td>\n",
       "      <td>77369839207</td>\n",
       "      <td>N/A</td>\n",
       "    </tr>\n",
       "  </tbody>\n",
       "</table>\n",
       "<p>496 rows × 4 columns</p>\n",
       "</div>"
      ],
      "text/plain": [
       "    Ticker  Stock Price Market Capitalization Number of shares to buy\n",
       "0        A      107.445           31437039547                     N/A\n",
       "1      AAL       11.680            7633353624                     N/A\n",
       "2      AAP       56.330            3349959802                     N/A\n",
       "3     AAPL      185.300         2881924945600                     N/A\n",
       "4     ABBV      137.830          243344022736                     N/A\n",
       "..     ...          ...                   ...                     ...\n",
       "491    YUM      125.240           35105801348                     N/A\n",
       "492    ZBH      103.715           21674434441                     N/A\n",
       "493   ZBRA      205.940           10576996848                     N/A\n",
       "494   ZION       32.620            4832613823                     N/A\n",
       "495    ZTS      168.520           77369839207                     N/A\n",
       "\n",
       "[496 rows x 4 columns]"
      ]
     },
     "execution_count": 7,
     "metadata": {},
     "output_type": "execute_result"
    }
   ],
   "source": [
    "symbol_groups = list(chunks(stocks['Ticker'],100))\n",
    "symbol_strings = []\n",
    "for i in range(0, len(symbol_groups)):\n",
    "    symbol_strings.append(','.join(symbol_groups[i]))\n",
    "  #  print(symbol_string[i])\n",
    "final_df = pd.DataFrame(columns = my_columns)\n",
    "for symbol_string in symbol_strings:\n",
    "    batch_call = f'https://cloud.iexapis.com/stable/stock/market/batch/?types=quote&symbols={symbol_string}&token={IEX_CLOUD_API_TOKEN}'\n",
    "    data = requests.get(batch_call).json()\n",
    "    for sym in symbol_string.split(','):\n",
    "        final_df = final_df._append(\n",
    "            pd.Series(\n",
    "               [\n",
    "                   sym,\n",
    "                    data[sym]['quote']['latestPrice'],\n",
    "                data[sym]['quote']['marketCap'],\n",
    "                'N/A'\n",
    "           ],\n",
    "            index = my_columns),\n",
    "            ignore_index = True\n",
    "            )\n",
    "final_df\n"
   ]
  },
  {
   "cell_type": "markdown",
   "metadata": {},
   "source": [
    "## Calculating the Number of Shares to Buy"
   ]
  },
  {
   "cell_type": "code",
   "execution_count": 8,
   "metadata": {},
   "outputs": [
    {
     "name": "stdin",
     "output_type": "stream",
     "text": [
      "enter value of portfolio:  1000000000\n"
     ]
    },
    {
     "name": "stdout",
     "output_type": "stream",
     "text": [
      "1000000000.0\n"
     ]
    }
   ],
   "source": [
    "port_size = input('enter value of portfolio: ')\n",
    "try:\n",
    "    val = float(port_size)\n",
    "    print(val)\n",
    "except:\n",
    "    print('enter an integer')\n",
    "    port_size = input('enter value of portfolio: ')\n",
    "    val = float(port_size)"
   ]
  },
  {
   "cell_type": "code",
   "execution_count": 9,
   "metadata": {},
   "outputs": [
    {
     "data": {
      "text/html": [
       "<div>\n",
       "<style scoped>\n",
       "    .dataframe tbody tr th:only-of-type {\n",
       "        vertical-align: middle;\n",
       "    }\n",
       "\n",
       "    .dataframe tbody tr th {\n",
       "        vertical-align: top;\n",
       "    }\n",
       "\n",
       "    .dataframe thead th {\n",
       "        text-align: right;\n",
       "    }\n",
       "</style>\n",
       "<table border=\"1\" class=\"dataframe\">\n",
       "  <thead>\n",
       "    <tr style=\"text-align: right;\">\n",
       "      <th></th>\n",
       "      <th>Ticker</th>\n",
       "      <th>Stock Price</th>\n",
       "      <th>Market Capitalization</th>\n",
       "      <th>Number of shares to buy</th>\n",
       "    </tr>\n",
       "  </thead>\n",
       "  <tbody>\n",
       "    <tr>\n",
       "      <th>0</th>\n",
       "      <td>A</td>\n",
       "      <td>107.445</td>\n",
       "      <td>31437039547</td>\n",
       "      <td>18764</td>\n",
       "    </tr>\n",
       "    <tr>\n",
       "      <th>1</th>\n",
       "      <td>AAL</td>\n",
       "      <td>11.680</td>\n",
       "      <td>7633353624</td>\n",
       "      <td>172613</td>\n",
       "    </tr>\n",
       "    <tr>\n",
       "      <th>2</th>\n",
       "      <td>AAP</td>\n",
       "      <td>56.330</td>\n",
       "      <td>3349959802</td>\n",
       "      <td>35791</td>\n",
       "    </tr>\n",
       "    <tr>\n",
       "      <th>3</th>\n",
       "      <td>AAPL</td>\n",
       "      <td>185.300</td>\n",
       "      <td>2881924945600</td>\n",
       "      <td>10880</td>\n",
       "    </tr>\n",
       "    <tr>\n",
       "      <th>4</th>\n",
       "      <td>ABBV</td>\n",
       "      <td>137.830</td>\n",
       "      <td>243344022736</td>\n",
       "      <td>14627</td>\n",
       "    </tr>\n",
       "    <tr>\n",
       "      <th>...</th>\n",
       "      <td>...</td>\n",
       "      <td>...</td>\n",
       "      <td>...</td>\n",
       "      <td>...</td>\n",
       "    </tr>\n",
       "    <tr>\n",
       "      <th>491</th>\n",
       "      <td>YUM</td>\n",
       "      <td>125.240</td>\n",
       "      <td>35105801348</td>\n",
       "      <td>16098</td>\n",
       "    </tr>\n",
       "    <tr>\n",
       "      <th>492</th>\n",
       "      <td>ZBH</td>\n",
       "      <td>103.715</td>\n",
       "      <td>21674434441</td>\n",
       "      <td>19439</td>\n",
       "    </tr>\n",
       "    <tr>\n",
       "      <th>493</th>\n",
       "      <td>ZBRA</td>\n",
       "      <td>205.940</td>\n",
       "      <td>10576996848</td>\n",
       "      <td>9789</td>\n",
       "    </tr>\n",
       "    <tr>\n",
       "      <th>494</th>\n",
       "      <td>ZION</td>\n",
       "      <td>32.620</td>\n",
       "      <td>4832613823</td>\n",
       "      <td>61806</td>\n",
       "    </tr>\n",
       "    <tr>\n",
       "      <th>495</th>\n",
       "      <td>ZTS</td>\n",
       "      <td>168.520</td>\n",
       "      <td>77369839207</td>\n",
       "      <td>11963</td>\n",
       "    </tr>\n",
       "  </tbody>\n",
       "</table>\n",
       "<p>496 rows × 4 columns</p>\n",
       "</div>"
      ],
      "text/plain": [
       "    Ticker  Stock Price Market Capitalization Number of shares to buy\n",
       "0        A      107.445           31437039547                   18764\n",
       "1      AAL       11.680            7633353624                  172613\n",
       "2      AAP       56.330            3349959802                   35791\n",
       "3     AAPL      185.300         2881924945600                   10880\n",
       "4     ABBV      137.830          243344022736                   14627\n",
       "..     ...          ...                   ...                     ...\n",
       "491    YUM      125.240           35105801348                   16098\n",
       "492    ZBH      103.715           21674434441                   19439\n",
       "493   ZBRA      205.940           10576996848                    9789\n",
       "494   ZION       32.620            4832613823                   61806\n",
       "495    ZTS      168.520           77369839207                   11963\n",
       "\n",
       "[496 rows x 4 columns]"
      ]
     },
     "execution_count": 9,
     "metadata": {},
     "output_type": "execute_result"
    }
   ],
   "source": [
    "pos_size = val/(len(final_df.index))\n",
    "for i in range(0, len(final_df.index)):\n",
    "    final_df.loc[i,'Number of shares to buy'] = math.floor(pos_size/final_df.loc[i,'Stock Price'])\n",
    "final_df"
   ]
  },
  {
   "cell_type": "markdown",
   "metadata": {},
   "source": [
    "## Formatting Our Excel Output\n",
    "Using the XlsxWriter library \n",
    "### Initializing our XlsxWriter Object"
   ]
  },
  {
   "cell_type": "code",
   "execution_count": 10,
   "metadata": {},
   "outputs": [],
   "source": [
    "writer = pd.ExcelWriter('recommended_trades.xlsx', engine='xlsxwriter')\n",
    "final_df.to_excel(writer, sheet_name='Recommended Trades', index = False)"
   ]
  },
  {
   "cell_type": "markdown",
   "metadata": {},
   "source": [
    "### Creating the Formats We'll Need For Our `.xlsx` File\n",
    "We'll need four main formats for our Excel document:\n",
    "* String format for tickers\n",
    "* \\\\$XX.XX format for stock prices\n",
    "* \\\\$XX,XXX format for market capitalization\n",
    "* Integer format for the number of shares to purchase"
   ]
  },
  {
   "cell_type": "code",
   "execution_count": 11,
   "metadata": {},
   "outputs": [],
   "source": [
    "backc = '#0a0a23'\n",
    "fc = '#ffffff'\n",
    "\n",
    "string_format = writer.book.add_format(\n",
    "    {\n",
    "        'font_color':fc,\n",
    "        'bg_color': backc,\n",
    "        'border': 1\n",
    "    }\n",
    ")\n",
    "dollar_format = writer.book.add_format(\n",
    "    {\n",
    "        'num_format':'$0.00',\n",
    "        'font_color':fc,\n",
    "        'bg_color': backc,\n",
    "        'border': 1\n",
    "    }\n",
    ")\n",
    "integer_format = writer.book.add_format(\n",
    "    {\n",
    "        'num_format': '0',\n",
    "        'font_color':fc,\n",
    "        'bg_color': backc,\n",
    "        'border': 1\n",
    "    }\n",
    ")"
   ]
  },
  {
   "cell_type": "code",
   "execution_count": 12,
   "metadata": {
    "scrolled": true
   },
   "outputs": [],
   "source": [
    "column_formats = { \n",
    "                    'A': ['Ticker', string_format],\n",
    "                    'B': ['Price', dollar_format],\n",
    "                    'C': ['Market Capitalization', dollar_format],\n",
    "                    'D': ['Number of Shares to Buy', integer_format]\n",
    "                    }\n",
    "\n",
    "for column in column_formats.keys():\n",
    "    writer.sheets['Recommended Trades'].set_column(f'{column}:{column}', 20, column_formats[column][1])\n",
    "    writer.sheets['Recommended Trades'].write(f'{column}1', column_formats[column][0], string_format)"
   ]
  },
  {
   "cell_type": "markdown",
   "metadata": {},
   "source": [
    "## Saving changes"
   ]
  },
  {
   "cell_type": "markdown",
   "metadata": {},
   "source": [
    "writer.close()"
   ]
  }
 ],
 "metadata": {
  "kernelspec": {
   "display_name": "Python 3.9 (tensorflow)",
   "language": "python",
   "name": "tensorflow"
  },
  "language_info": {
   "codemirror_mode": {
    "name": "ipython",
    "version": 3
   },
   "file_extension": ".py",
   "mimetype": "text/x-python",
   "name": "python",
   "nbconvert_exporter": "python",
   "pygments_lexer": "ipython3",
   "version": "3.10.12"
  }
 },
 "nbformat": 4,
 "nbformat_minor": 4
}
